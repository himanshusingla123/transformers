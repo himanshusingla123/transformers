{
 "cells": [
  {
   "cell_type": "code",
   "execution_count": 1,
   "id": "78c1cd72",
   "metadata": {},
   "outputs": [],
   "source": [
    "from transformers import pipeline"
   ]
  },
  {
   "cell_type": "code",
   "execution_count": 6,
   "id": "c55d78a5",
   "metadata": {},
   "outputs": [
    {
     "name": "stderr",
     "output_type": "stream",
     "text": [
      "Device set to use cpu\n"
     ]
    },
    {
     "data": {
      "text/plain": [
       "[{'label': 'POSITIVE', 'score': 0.9930204749107361}]"
      ]
     },
     "execution_count": 6,
     "metadata": {},
     "output_type": "execute_result"
    }
   ],
   "source": [
    "classifier = pipeline(\"sentiment-analysis\", model=\"distilbert/distilbert-base-uncased-finetuned-sst-2-english\")\n",
    "classifier(\"I  have been waiting for a hugging face my whole life\")"
   ]
  },
  {
   "cell_type": "code",
   "execution_count": 17,
   "id": "e987613c",
   "metadata": {},
   "outputs": [
    {
     "name": "stderr",
     "output_type": "stream",
     "text": [
      "Device set to use cpu\n"
     ]
    },
    {
     "name": "stdout",
     "output_type": "stream",
     "text": [
      "{'sequence': 'this is a course about the transformers library', 'labels': ['education', 'business', 'politics'], 'scores': [0.9224736094474792, 0.05610857903957367, 0.02141779102385044]}\n"
     ]
    }
   ],
   "source": [
    "from transformers import pipeline\n",
    "\n",
    "classifier = pipeline(\"zero-shot-classification\", model=\"facebook/bart-large-mnli\")\n",
    "\n",
    "result = classifier(\n",
    "    \"this is a course about the transformers library\",\n",
    "    candidate_labels=[\"education\", \"politics\", \"business\"]\n",
    ")\n",
    "\n",
    "print(result)\n"
   ]
  },
  {
   "cell_type": "code",
   "execution_count": 16,
   "id": "7612c4ad",
   "metadata": {},
   "outputs": [
    {
     "name": "stderr",
     "output_type": "stream",
     "text": [
      "Device set to use cpu\n"
     ]
    },
    {
     "data": {
      "text/plain": [
       "[{'score': 0.052928801625967026,\n",
       "  'token': 2535,\n",
       "  'token_str': 'role',\n",
       "  'sequence': \"hello i ' m a role model.\"},\n",
       " {'score': 0.03968583047389984,\n",
       "  'token': 4827,\n",
       "  'token_str': 'fashion',\n",
       "  'sequence': \"hello i ' m a fashion model.\"},\n",
       " {'score': 0.03474362939596176,\n",
       "  'token': 2449,\n",
       "  'token_str': 'business',\n",
       "  'sequence': \"hello i ' m a business model.\"},\n",
       " {'score': 0.03462280333042145,\n",
       "  'token': 2944,\n",
       "  'token_str': 'model',\n",
       "  'sequence': \"hello i ' m a model model.\"},\n",
       " {'score': 0.01814517006278038,\n",
       "  'token': 11643,\n",
       "  'token_str': 'modeling',\n",
       "  'sequence': \"hello i ' m a modeling model.\"}]"
      ]
     },
     "execution_count": 16,
     "metadata": {},
     "output_type": "execute_result"
    }
   ],
   "source": [
    "unmasker = pipeline('fill-mask', model='distilbert-base-uncased')\n",
    "unmasker(\"Hello I'm a [MASK] model.\")"
   ]
  },
  {
   "cell_type": "code",
   "execution_count": null,
   "id": "c4dc826c",
   "metadata": {},
   "outputs": [
    {
     "name": "stderr",
     "output_type": "stream",
     "text": [
      "Some weights of the model checkpoint at dbmdz/bert-large-cased-finetuned-conll03-english were not used when initializing BertForTokenClassification: ['bert.pooler.dense.bias', 'bert.pooler.dense.weight']\n",
      "- This IS expected if you are initializing BertForTokenClassification from the checkpoint of a model trained on another task or with another architecture (e.g. initializing a BertForSequenceClassification model from a BertForPreTraining model).\n",
      "- This IS NOT expected if you are initializing BertForTokenClassification from the checkpoint of a model that you expect to be exactly identical (initializing a BertForSequenceClassification model from a BertForSequenceClassification model).\n",
      "Device set to use cpu\n"
     ]
    },
    {
     "data": {
      "text/plain": [
       "[{'entity': 'I-PER',\n",
       "  'score': np.float32(0.99915063),\n",
       "  'index': 4,\n",
       "  'word': 'Him',\n",
       "  'start': 11,\n",
       "  'end': 14},\n",
       " {'entity': 'I-PER',\n",
       "  'score': np.float32(0.99438393),\n",
       "  'index': 5,\n",
       "  'word': '##ans',\n",
       "  'start': 14,\n",
       "  'end': 17},\n",
       " {'entity': 'I-PER',\n",
       "  'score': np.float32(0.9968093),\n",
       "  'index': 6,\n",
       "  'word': '##hu',\n",
       "  'start': 17,\n",
       "  'end': 19},\n",
       " {'entity': 'I-ORG',\n",
       "  'score': np.float32(0.97725874),\n",
       "  'index': 11,\n",
       "  'word': 'Hu',\n",
       "  'start': 34,\n",
       "  'end': 36},\n",
       " {'entity': 'I-ORG',\n",
       "  'score': np.float32(0.8717169),\n",
       "  'index': 12,\n",
       "  'word': '##gging',\n",
       "  'start': 36,\n",
       "  'end': 41},\n",
       " {'entity': 'I-ORG',\n",
       "  'score': np.float32(0.91216165),\n",
       "  'index': 13,\n",
       "  'word': 'face',\n",
       "  'start': 42,\n",
       "  'end': 46},\n",
       " {'entity': 'I-LOC',\n",
       "  'score': np.float32(0.98108244),\n",
       "  'index': 15,\n",
       "  'word': 'Brooklyn',\n",
       "  'start': 50,\n",
       "  'end': 58}]"
      ]
     },
     "execution_count": 21,
     "metadata": {},
     "output_type": "execute_result"
    }
   ],
   "source": [
    "ner = pipeline(\"ner\", model=\"dbmdz/bert-large-cased-finetuned-conll03-english\")\n",
    "ner(\"My name is Himanshu and I work at Hugging face in Brooklyn\")"
   ]
  },
  {
   "cell_type": "code",
   "execution_count": 23,
   "id": "bd403e94",
   "metadata": {},
   "outputs": [
    {
     "name": "stderr",
     "output_type": "stream",
     "text": [
      "Device set to use cpu\n"
     ]
    },
    {
     "data": {
      "text/plain": [
       "{'score': 0.5548656582832336,\n",
       " 'start': 34,\n",
       " 'end': 58,\n",
       " 'answer': 'hugging face in Brooklyn'}"
      ]
     },
     "execution_count": 23,
     "metadata": {},
     "output_type": "execute_result"
    }
   ],
   "source": [
    "questions_answerer = pipeline(\"question-answering\" , model=\"distilbert/distilbert-base-cased-distilled-squad\")\n",
    "questions_answerer(\n",
    "    question = \"Where do i work?\",\n",
    "    context = \"My name is Himanshu and I work at hugging face in Brooklyn\"\n",
    ")\n"
   ]
  },
  {
   "cell_type": "code",
   "execution_count": 2,
   "id": "3e50db98",
   "metadata": {},
   "outputs": [
    {
     "name": "stdout",
     "output_type": "stream",
     "text": [
      "WARNING:tensorflow:From d:\\python\\Lib\\site-packages\\tf_keras\\src\\losses.py:2976: The name tf.losses.sparse_softmax_cross_entropy is deprecated. Please use tf.compat.v1.losses.sparse_softmax_cross_entropy instead.\n",
      "\n"
     ]
    },
    {
     "name": "stderr",
     "output_type": "stream",
     "text": [
      "Device set to use cpu\n"
     ]
    },
    {
     "data": {
      "text/plain": [
       "[{'summary_text': ' America suffers an increasingly serious decline in the number of engineering graduates and a lack of well-educated engineers . Rapidly developing economies such as China and India, as well as other industrial countries in Europe and Asia, continue to encourage and advance the teaching of engineering . There are declining offerings in engineering subjects dealing with infrastructure, the environment, and related issues .'}]"
      ]
     },
     "execution_count": 2,
     "metadata": {},
     "output_type": "execute_result"
    }
   ],
   "source": [
    "summarizer = pipeline(\"summarization\" , model=\"sshleifer/distilbart-cnn-12-6\")\n",
    "summarizer(\"\"\"\n",
    "America has changed dramatically during recent years. Not only has the number of \n",
    "    graduates in traditional engineering disciplines such as mechanical, civil, \n",
    "    electrical, chemical, and aeronautical engineering declined, but in most of \n",
    "    the premier American universities engineering curricula now concentrate on \n",
    "    and encourage largely the study of engineering science. As a result, there \n",
    "    are declining offerings in engineering subjects dealing with infrastructure, \n",
    "    the environment, and related issues, and greater concentration on high \n",
    "    technology subjects, largely supporting increasingly complex scientific \n",
    "    developments. While the latter is important, it should not be at the expense \n",
    "    of more traditional engineering.\n",
    "\n",
    "    Rapidly developing economies such as China and India, as well as other \n",
    "    industrial countries in Europe and Asia, continue to encourage and advance \n",
    "    the teaching of engineering. Both China and India, respectively, graduate \n",
    "    six and eight times as many traditional engineers as does the United States. \n",
    "    Other industrial countries at minimum maintain their output, while America \n",
    "    suffers an increasingly serious decline in the number of engineering graduates \n",
    "    and a lack of well-educated engineers.\n",
    "\"\"\")"
   ]
  },
  {
   "cell_type": "code",
   "execution_count": 5,
   "id": "4b0a0846",
   "metadata": {},
   "outputs": [
    {
     "name": "stderr",
     "output_type": "stream",
     "text": [
      "Device set to use cpu\n"
     ]
    },
    {
     "name": "stdout",
     "output_type": "stream",
     "text": [
      "[{'label': 'lynx, catamount', 'score': 0.43350082635879517}, {'label': 'cougar, puma, catamount, mountain lion, painter, panther, Felis concolor', 'score': 0.03479621931910515}, {'label': 'snow leopard, ounce, Panthera uncia', 'score': 0.03240184113383293}, {'label': 'Egyptian cat', 'score': 0.023944780230522156}, {'label': 'tiger cat', 'score': 0.022889161482453346}]\n"
     ]
    }
   ],
   "source": [
    "image_classifier = pipeline(\n",
    "    task=\"image-classification\", model=\"google/vit-base-patch16-224\"\n",
    ")\n",
    "result = image_classifier(\n",
    "    \"https://huggingface.co/datasets/huggingface/documentation-images/resolve/main/pipeline-cat-chonk.jpeg\"\n",
    ")\n",
    "print(result)"
   ]
  },
  {
   "cell_type": "code",
   "execution_count": 7,
   "id": "80164f36",
   "metadata": {},
   "outputs": [
    {
     "data": {
      "application/vnd.jupyter.widget-view+json": {
       "model_id": "6c6d161aa6824f179314b460503309f8",
       "version_major": 2,
       "version_minor": 0
      },
      "text/plain": [
       "Loading checkpoint shards:   0%|          | 0/2 [00:00<?, ?it/s]"
      ]
     },
     "metadata": {},
     "output_type": "display_data"
    },
    {
     "name": "stderr",
     "output_type": "stream",
     "text": [
      "Device set to use cpu\n",
      "Setting `pad_token_id` to `eos_token_id`:50256 for open-end generation.\n"
     ]
    },
    {
     "data": {
      "text/plain": [
       "[{'generated_text': \"in this course we will teach you how to ____).\\nA. make\\nB. make\\nC. make\\nD. make\\n\\nAnswer 1: C. make\\nExplanation: The question asks for the verb that is used to teach someone how to make something. The correct answer is C.'make' is a verb that can be used to instruct someone on how to create or produce something.\\n\\nFollow-up Exercise 1:\\nQuestion 2: If you want to teach someone how to make a delicious apple pie, which verb would you use?\\nA. bake\\nB. cook\\nC. prepare\\nD. assemble\\n\\nAnswer 2: A. bake\\nExplanation: Since the question asks for a verb used to teach someone how to make a specific food item, the correct answer is A. 'bake' is the verb used to create or cook a delicious apple pie.\\n\\nFollow-up Exercise 2:\\nQuestion 3: Which of the following verbs is used to instruct someone on how to drive a car?\\nA. steer\\nB. drive\\nC. accelerate\\nD. brake\\n\\nAnswer 3: B. drive\\nExplanation: The verb 'drive' is used to teach someone how to operate a vehicle, while the other verbs\"}]"
      ]
     },
     "execution_count": 7,
     "metadata": {},
     "output_type": "execute_result"
    }
   ],
   "source": [
    "generator = pipeline(\"text-generation\",model=\"microsoft/phi-2\")\n",
    "generator(\"in this course we will teach you how to \")"
   ]
  },
  {
   "cell_type": "code",
   "execution_count": null,
   "id": "deacd538",
   "metadata": {},
   "outputs": [],
   "source": [
    "from transformers import pipeline\n",
    "\n",
    "transcriber = pipeline(\n",
    "    task=\"automatic-speech-recognition\", \n",
    "    model=\"openai/whisper-large-v3\"\n",
    ")\n",
    "\n",
    "result = transcriber(\n",
    "    \"https://huggingface.co/datasets/Narsil/asr_dummy/resolve/main/mlk.flac\",\n",
    "    generate_kwargs={\"language\": \"en\", \"task\": \"transcribe\"}  # ya \"translate\"\n",
    ")\n",
    "\n",
    "print(result[\"text\"])"
   ]
  }
 ],
 "metadata": {
  "kernelspec": {
   "display_name": "Python 3",
   "language": "python",
   "name": "python3"
  },
  "language_info": {
   "codemirror_mode": {
    "name": "ipython",
    "version": 3
   },
   "file_extension": ".py",
   "mimetype": "text/x-python",
   "name": "python",
   "nbconvert_exporter": "python",
   "pygments_lexer": "ipython3",
   "version": "3.12.1"
  }
 },
 "nbformat": 4,
 "nbformat_minor": 5
}
