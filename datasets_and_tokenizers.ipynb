{
 "cells": [
  {
   "cell_type": "markdown",
   "id": "4372584c",
   "metadata": {},
   "source": [
    "### Time to slice and dice\n",
    "\n",
    "First we need to download and extract the data, which can be done with the wget and unzip commands:\n",
    "```bash\n",
    "!wget \"https://archive.ics.uci.edu/ml/machine-learning-databases/00462/drugsCom_raw.zip\"\n",
    "!unzip drugsCom_raw.zip\n",
    "```"
   ]
  },
  {
   "cell_type": "code",
   "execution_count": null,
   "id": "90306134",
   "metadata": {},
   "outputs": [],
   "source": [
    "from datasets import load_dataset\n",
    "\n",
    "data_files = {\"train\":\"drugComTrain_raw.tsv\" , \"test\":\"drugComTest_raw.tsv\"}\n",
    "drug_dataset = load_dataset(\"csv\" , data_files=data_files , delimiter=\"\\t\")"
   ]
  },
  {
   "cell_type": "markdown",
   "id": "a5b715f2",
   "metadata": {},
   "source": [
    " In 🤗 Datasets, we can create a random sample by chaining the Dataset.shuffle() and Dataset.select() functions together:"
   ]
  },
  {
   "cell_type": "code",
   "execution_count": null,
   "id": "bb2cda3f",
   "metadata": {},
   "outputs": [],
   "source": [
    "drug_sample = drug_dataset[\"train\"].shuffle(seed=42).select(range(1000))\n",
    "\n",
    "drug_sample[:3]"
   ]
  },
  {
   "cell_type": "markdown",
   "id": "1ea06065",
   "metadata": {},
   "source": [
    "From this sample we can already see a few quirks in our dataset:\n",
    "\n",
    "1. The Unnamed: 0 column looks suspiciously like an anonymized ID for each patient.\n",
    "2. The condition column includes a mix of uppercase and lowercase labels.\n",
    "3. The reviews are of varying length and contain a mix of Python line separators (\\r\\n) as well as HTML character codes like &\\#039;."
   ]
  },
  {
   "cell_type": "code",
   "execution_count": null,
   "id": "bd679cd0",
   "metadata": {},
   "outputs": [],
   "source": [
    "# To test the patient ID hypothesis for the Unnamed: 0 column, we can use the Dataset.unique() function to verify that the number of IDs matches the number of rows in each split:\n",
    "for split in drug_dataset.keys():\n",
    "    assert len(drug_dataset[split]) == len(drug_dataset[split].unique(\"Unnamed: 0\"))"
   ]
  },
  {
   "cell_type": "code",
   "execution_count": null,
   "id": "7b8289b8",
   "metadata": {},
   "outputs": [],
   "source": [
    "# renaming of the column\n",
    "drug_dataset = drug_dataset.rename_column(\n",
    "    original_column_name=\"Unnamed: 0\", new_column_name=\"patient_id\"\n",
    ")\n",
    "drug_dataset"
   ]
  },
  {
   "cell_type": "code",
   "execution_count": null,
   "id": "c1180692",
   "metadata": {},
   "outputs": [],
   "source": [
    "# lowercasing of the condition column\n",
    "def lowercase_condition(example):\n",
    "    return {\"condition\": example[\"condition\"].lower()}\n",
    "\n",
    "def filter_nones(x):\n",
    "    return x[\"condition\"] is not None\n",
    "\n",
    "drug_dataset.filter(filter_nones)\n",
    "drug_dataset.map(lowercase_condition)"
   ]
  },
  {
   "cell_type": "code",
   "execution_count": null,
   "id": "5c9a9fe0",
   "metadata": {},
   "outputs": [],
   "source": [
    "drug_dataset = drug_dataset.map(lowercase_condition)\n",
    "# Check that lowercasing worked\n",
    "drug_dataset[\"train\"][\"condition\"][:3]"
   ]
  },
  {
   "cell_type": "code",
   "execution_count": null,
   "id": "138b2e69",
   "metadata": {},
   "outputs": [],
   "source": [
    "#  creatng new columns\n"
   ]
  },
  {
   "cell_type": "code",
   "execution_count": null,
   "id": "9248c419",
   "metadata": {},
   "outputs": [],
   "source": []
  },
  {
   "cell_type": "code",
   "execution_count": null,
   "id": "ca57aa83",
   "metadata": {},
   "outputs": [],
   "source": []
  },
  {
   "cell_type": "code",
   "execution_count": null,
   "id": "91210c11",
   "metadata": {},
   "outputs": [],
   "source": []
  },
  {
   "cell_type": "code",
   "execution_count": null,
   "id": "2e3f019a",
   "metadata": {},
   "outputs": [],
   "source": []
  }
 ],
 "metadata": {
  "language_info": {
   "name": "python"
  }
 },
 "nbformat": 4,
 "nbformat_minor": 5
}
