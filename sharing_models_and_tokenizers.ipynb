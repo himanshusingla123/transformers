{
 "cells": [
  {
   "cell_type": "markdown",
   "id": "72ca028b",
   "metadata": {},
   "source": [
    "### **Using pretrained models**"
   ]
  },
  {
   "cell_type": "code",
   "execution_count": null,
   "id": "f174cc51",
   "metadata": {},
   "outputs": [],
   "source": [
    "from transformers import pipeline\n",
    "cambert_fill_mask = pipeline(\"fill-mask\", model = \"camembert-base\")\n",
    "results= cambert_fill_mask(\"Le camembert est <mask> :\")"
   ]
  },
  {
   "cell_type": "markdown",
   "id": "1520be37",
   "metadata": {},
   "source": [
    "we recommend using the TFAuto* classes instead, as these are by design architecture-agnostic."
   ]
  },
  {
   "cell_type": "code",
   "execution_count": null,
   "id": "a86af6f6",
   "metadata": {},
   "outputs": [],
   "source": [
    "from transformers import AutoTokenizer, TFAutoModelForMaskedLM\n",
    "\n",
    "tokenizer = AutoTokenizer.from_pretrained(\"camembert-base\")\n",
    "model = TFAutoModelForMaskedLM.from_pretrained(\"camembert-base\")"
   ]
  },
  {
   "cell_type": "markdown",
   "id": "4a0636ac",
   "metadata": {},
   "source": [
    "### **Sharing pretrained models**"
   ]
  },
  {
   "cell_type": "markdown",
   "id": "30e62f3a",
   "metadata": {},
   "source": [
    "There are three ways to go about creating new model repositories:\n",
    "\n",
    "1. Using the push_to_hub API\n",
    "2. Using the huggingface_hub Python library\n",
    "3. Using the web interface"
   ]
  },
  {
   "cell_type": "code",
   "execution_count": null,
   "id": "33b28b85",
   "metadata": {},
   "outputs": [],
   "source": [
    "from huggingface_hub import notebook_login\n",
    "\n",
    "notebook_login()"
   ]
  },
  {
   "cell_type": "code",
   "execution_count": null,
   "id": "b9253286",
   "metadata": {},
   "outputs": [],
   "source": [
    "from transformers import PushToHubCallback\n",
    "\n",
    "callback = PushToHubCallback(\n",
    "    \"bert-finetuned-mrpc\", save_strategy=\"epoch\", tokenizer=tokenizer\n",
    ")"
   ]
  },
  {
   "cell_type": "code",
   "execution_count": null,
   "id": "0d5872f8",
   "metadata": {},
   "outputs": [],
   "source": [
    "from transformers import TFAutoModelForMaskedLM, AutoTokenizer\n",
    "\n",
    "checkpoint = \"camembert-base\"\n",
    "\n",
    "model = TFAutoModelForMaskedLM.from_pretrained(checkpoint)\n",
    "tokenizer = AutoTokenizer.from_pretrained(checkpoint)\n",
    "model.push_to_hub(\"dummy-model\") # for model\n",
    "tokenizer.push_to_hub(\"dummy-model\") # for tokenizer\n",
    "\n",
    "# tokenizer.push_to_hub(\"dummy-model\", organization=\"huggingface\") # for specific organization\n",
    "\n",
    "# or\n",
    "# tokenizer.push_to_hub(\"dummy-model\", organization=\"huggingface\", use_auth_token=\"<TOKEN>\")"
   ]
  },
  {
   "cell_type": "markdown",
   "id": "6cef7a12",
   "metadata": {},
   "source": [
    "The huggingface_hub package offers several methods and classes which are useful for our purpose. Firstly, there are a few methods to manage repository creation, deletion, and others:"
   ]
  },
  {
   "cell_type": "code",
   "execution_count": null,
   "id": "7b1beba2",
   "metadata": {},
   "outputs": [],
   "source": [
    "from huggingface_hub import (\n",
    "    Repository,\n",
    "    # User management\n",
    "    login,\n",
    "    logout,\n",
    "    whoami,\n",
    "\n",
    "    # Repository creation and management\n",
    "    create_repo,\n",
    "    delete_repo,\n",
    "    update_repo_visibility,\n",
    "\n",
    "    # And some methods to retrieve/change information about the content\n",
    "    list_models,\n",
    "    list_datasets,\n",
    "    list_metrics,\n",
    "    list_repo_files,\n",
    "    upload_file,\n",
    "    delete_file,\n",
    ")"
   ]
  },
  {
   "cell_type": "code",
   "execution_count": null,
   "id": "b7a34b59",
   "metadata": {},
   "outputs": [],
   "source": [
    "create_repo(\"dummy-model\")\n",
    "# create_repo(\"dummy-model\", organization=\"huggingface\")\n"
   ]
  },
  {
   "cell_type": "markdown",
   "id": "cd7bd15b",
   "metadata": {},
   "source": [
    "This will upload the file config.json available at <path_to_file> to the root of the repository as config.json, to the dummy-model repository. Other arguments which may be useful are:\n",
    "\n",
    "1. token, if you would like to override the token stored in your cache by a given token.\n",
    "2. repo_type, if you would like to upload to a dataset or a space instead of a model. Accepted values are \"dataset\" and \"space\"."
   ]
  },
  {
   "cell_type": "code",
   "execution_count": null,
   "id": "7bd7cc7b",
   "metadata": {},
   "outputs": [],
   "source": [
    "upload_file(\n",
    "    \"<path_to_file>/config.json\",\n",
    "    path_in_repo=\"config.json\",\n",
    "    repo_id=\"<namespace>/dummy-model\",\n",
    ")"
   ]
  },
  {
   "cell_type": "markdown",
   "id": "bdbe82ef",
   "metadata": {},
   "source": [
    "### **The Repository class**\n",
    "The Repository class manages a local repository in a git-like manner. It abstracts most of the pain points one may have with git to provide all features that we require.\n",
    "\n",
    "Using this class requires having git and git-lfs installed, so make sure you have git-lfs installed [here](https://git-lfs.github.com/) and set up before you begin.\n",
    "\n",
    "In order to start playing around with the repository we have just created, we can start by initialising it into a local folder by cloning the remote repository:"
   ]
  },
  {
   "cell_type": "code",
   "execution_count": null,
   "id": "ccaf37dd",
   "metadata": {},
   "outputs": [],
   "source": [
    "repo = Repository(\"<path_to_dummy_folder>\", clone_from=\"<namespace>/dummy-model\")"
   ]
  },
  {
   "cell_type": "markdown",
   "id": "a129361b",
   "metadata": {},
   "source": [
    "We first make sure that our local clone is up to date by pulling the latest changes:"
   ]
  },
  {
   "cell_type": "code",
   "execution_count": null,
   "id": "31266b90",
   "metadata": {},
   "outputs": [],
   "source": [
    "repo.git_pull()"
   ]
  },
  {
   "cell_type": "code",
   "execution_count": null,
   "id": "e1bfa3f1",
   "metadata": {},
   "outputs": [],
   "source": [
    "model.save_pretrained(\"<path_to_dummy_folder>\")\n",
    "tokenizer.save_pretrained(\"<path_to_dummy_folder>\")"
   ]
  },
  {
   "cell_type": "code",
   "execution_count": null,
   "id": "79c461a8",
   "metadata": {},
   "outputs": [],
   "source": []
  }
 ],
 "metadata": {
  "language_info": {
   "name": "python"
  }
 },
 "nbformat": 4,
 "nbformat_minor": 5
}
